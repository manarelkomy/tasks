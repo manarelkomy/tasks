{
 "cells": [
  {
   "cell_type": "code",
   "execution_count": 1,
   "id": "b2e9155a",
   "metadata": {},
   "outputs": [],
   "source": [
    "from cobra import Model,Reaction,Metabolite"
   ]
  },
  {
   "cell_type": "code",
   "execution_count": 2,
   "id": "fa8fc783",
   "metadata": {},
   "outputs": [],
   "source": [
    "model=Model('task1')"
   ]
  },
  {
   "cell_type": "code",
   "execution_count": 3,
   "id": "3968b622",
   "metadata": {},
   "outputs": [],
   "source": [
    "v0=Reaction('v0')\n",
    "v0.name='v0'\n",
    "v0.lower_bound=1\n",
    "v0.upper_bound=1"
   ]
  },
  {
   "cell_type": "code",
   "execution_count": 4,
   "id": "e799fcf2",
   "metadata": {},
   "outputs": [],
   "source": [
    "v1=Reaction('v1')\n",
    "v1.name='v1'\n",
    "v1.lower_bound=0\n",
    "v1.upper_bound=1000"
   ]
  },
  {
   "cell_type": "code",
   "execution_count": 5,
   "id": "ba4562e2",
   "metadata": {},
   "outputs": [],
   "source": [
    "v2=Reaction('v2')\n",
    "v2.name='v2'\n",
    "v2.lower_bound=0\n",
    "v2.upper_bound=1000"
   ]
  },
  {
   "cell_type": "code",
   "execution_count": 6,
   "id": "7dd4802f",
   "metadata": {},
   "outputs": [],
   "source": [
    "Mu=Reaction('Mu')\n",
    "Mu.name='Mu'\n",
    "Mu.lower_bound=0\n",
    "Mu.upper_bound=1000"
   ]
  },
  {
   "cell_type": "code",
   "execution_count": 7,
   "id": "0b76d6ea",
   "metadata": {},
   "outputs": [],
   "source": [
    "glce=Metabolite('gl',compartment='c')"
   ]
  },
  {
   "cell_type": "code",
   "execution_count": 8,
   "id": "fcd49870",
   "metadata": {},
   "outputs": [],
   "source": [
    "AA=Metabolite('AA',compartment='c')"
   ]
  },
  {
   "cell_type": "code",
   "execution_count": 9,
   "id": "ed895ca6",
   "metadata": {},
   "outputs": [],
   "source": [
    "biomass=Metabolite('biomass',compartment='c')"
   ]
  },
  {
   "cell_type": "code",
   "execution_count": 10,
   "id": "1043f0c0",
   "metadata": {},
   "outputs": [],
   "source": [
    "v0.add_metabolites({glce:1})"
   ]
  },
  {
   "cell_type": "code",
   "execution_count": 11,
   "id": "53a48017",
   "metadata": {},
   "outputs": [],
   "source": [
    "v1.add_metabolites({glce:-1,AA:1})"
   ]
  },
  {
   "cell_type": "code",
   "execution_count": 12,
   "id": "1d5b4648",
   "metadata": {},
   "outputs": [],
   "source": [
    "v2.add_metabolites({AA:-9.09,biomass:1})"
   ]
  },
  {
   "cell_type": "code",
   "execution_count": 13,
   "id": "595bfaa3",
   "metadata": {},
   "outputs": [],
   "source": [
    "Mu.add_metabolites({biomass:-1})"
   ]
  },
  {
   "cell_type": "code",
   "execution_count": 14,
   "id": "fc470fa4",
   "metadata": {},
   "outputs": [],
   "source": [
    "model.add_reactions([v0,v1,v2,Mu])"
   ]
  },
  {
   "cell_type": "code",
   "execution_count": 15,
   "id": "c57ebf9c",
   "metadata": {},
   "outputs": [],
   "source": [
    "model.objective='Mu'"
   ]
  },
  {
   "cell_type": "code",
   "execution_count": 16,
   "id": "9664f586",
   "metadata": {},
   "outputs": [
    {
     "data": {
      "text/html": [
       "<strong><em>Optimal</em> solution with objective value 0.110</strong><br><div>\n",
       "<style scoped>\n",
       "    .dataframe tbody tr th:only-of-type {\n",
       "        vertical-align: middle;\n",
       "    }\n",
       "\n",
       "    .dataframe tbody tr th {\n",
       "        vertical-align: top;\n",
       "    }\n",
       "\n",
       "    .dataframe thead th {\n",
       "        text-align: right;\n",
       "    }\n",
       "</style>\n",
       "<table border=\"1\" class=\"dataframe\">\n",
       "  <thead>\n",
       "    <tr style=\"text-align: right;\">\n",
       "      <th></th>\n",
       "      <th>fluxes</th>\n",
       "      <th>reduced_costs</th>\n",
       "    </tr>\n",
       "  </thead>\n",
       "  <tbody>\n",
       "    <tr>\n",
       "      <th>v0</th>\n",
       "      <td>1.000000</td>\n",
       "      <td>0.220022</td>\n",
       "    </tr>\n",
       "    <tr>\n",
       "      <th>v1</th>\n",
       "      <td>1.000000</td>\n",
       "      <td>0.000000</td>\n",
       "    </tr>\n",
       "    <tr>\n",
       "      <th>v2</th>\n",
       "      <td>0.110011</td>\n",
       "      <td>0.000000</td>\n",
       "    </tr>\n",
       "    <tr>\n",
       "      <th>Mu</th>\n",
       "      <td>0.110011</td>\n",
       "      <td>0.000000</td>\n",
       "    </tr>\n",
       "  </tbody>\n",
       "</table>\n",
       "</div>"
      ],
      "text/plain": [
       "<Solution 0.110 at 0x253f80f6d60>"
      ]
     },
     "execution_count": 16,
     "metadata": {},
     "output_type": "execute_result"
    }
   ],
   "source": [
    "model.optimize()"
   ]
  },
  {
   "cell_type": "code",
   "execution_count": null,
   "id": "1c5c4c29",
   "metadata": {},
   "outputs": [],
   "source": []
  }
 ],
 "metadata": {
  "kernelspec": {
   "display_name": "Python 3 (ipykernel)",
   "language": "python",
   "name": "python3"
  },
  "language_info": {
   "codemirror_mode": {
    "name": "ipython",
    "version": 3
   },
   "file_extension": ".py",
   "mimetype": "text/x-python",
   "name": "python",
   "nbconvert_exporter": "python",
   "pygments_lexer": "ipython3",
   "version": "3.9.7"
  }
 },
 "nbformat": 4,
 "nbformat_minor": 5
}
